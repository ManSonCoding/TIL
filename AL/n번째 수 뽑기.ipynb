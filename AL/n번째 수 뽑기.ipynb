{
 "cells": [
  {
   "cell_type": "code",
   "execution_count": 2,
   "metadata": {},
   "outputs": [],
   "source": [
    "#프로그래머스 하루키의 법칙 10/27"
   ]
  },
  {
   "cell_type": "code",
   "execution_count": 3,
   "metadata": {},
   "outputs": [],
   "source": [
    "#k번째 수 뽑기\n",
    "\n",
    "def solution(array, commands):\n",
    "    \n",
    "    answer = []    \n",
    "    \n",
    "    #command로 받아온 배열안의 배열을 i k를 사용하여 나눈다.\n",
    "    for index in commands:\n",
    "    \n",
    "        i = index[0]\n",
    "        k = index[1]\n",
    "        answer_index = int(index[2])\n",
    "        temp = array[i-1:k]\n",
    "        \n",
    "        #배열을 정렬할 때 sorted를 사용하면 편한다.\n",
    "        \n",
    "        sortedarray = sorted(temp)\n",
    "        print(sortedarray)\n",
    "        \n",
    "        #n번째 수를 반환한다.\n",
    "        answer_number = sortedarray[answer_index - 1 ] \n",
    "        answer.append(answer_number)\n",
    "    return answer"
   ]
  },
  {
   "cell_type": "code",
   "execution_count": null,
   "metadata": {},
   "outputs": [],
   "source": []
  }
 ],
 "metadata": {
  "kernelspec": {
   "display_name": "Python 3",
   "language": "python",
   "name": "python3"
  },
  "language_info": {
   "codemirror_mode": {
    "name": "ipython",
    "version": 3
   },
   "file_extension": ".py",
   "mimetype": "text/x-python",
   "name": "python",
   "nbconvert_exporter": "python",
   "pygments_lexer": "ipython3",
   "version": "3.8.3"
  }
 },
 "nbformat": 4,
 "nbformat_minor": 4
}
